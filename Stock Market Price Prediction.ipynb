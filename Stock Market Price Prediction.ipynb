import numpy as np
import pandas as pd
from sklearn.preprocessing import MinMaxScaler
from tensorflow.keras.models import Sequential
from tensorflow.keras.layers import LSTM, Dense
import matplotlib.pyplot as plt
import yfinance as yf

# Load stock data
def load_stock_data(ticker, start_date, end_date):
    df = yf.download(ticker, start=start_date, end=end_date)
    return df['Close'].values.reshape(-1, 1)

# Prepare data
def prepare_data(data, time_steps=60):
    scaler = MinMaxScaler()
    scaled_data = scaler.fit_transform(data)
    
    X, y = [], []
    for i in range(time_steps, len(scaled_data)):
        X.append(scaled_data[i-time_steps:i])
        y.append(scaled_data[i])
    return np.array(X), np.array(y), scaler

# Build LSTM model
def build_lstm_model(time_steps):
    model = Sequential([
        LSTM(50, return_sequences=True, input_shape=(time_steps, 1)),
        LSTM(50),
        Dense(25),
        Dense(1)
    ])
    model.compile(optimizer='adam', loss='mse')
    return model

# Plot results
def plot_predictions(train_data, test_data, predictions):
    plt.figure(figsize=(12, 6))
    plt.plot(train_data, label='Training Data')
    plt.plot(range(len(train_data), len(train_data) + len(test_data)), test_data, label='Actual')
    plt.plot(range(len(train_data), len(train_data) + len(predictions)), predictions, label='Predicted')
    plt.legend()
    plt.savefig('stock_prediction.png')

# Main function
def main():
    # Load data
    data = load_stock_data('AAPL', '2020-01-01', '2025-01-01')
    
    # Split data
    train_size = int(len(data) * 0.8)
    train_data, test_data = data[:train_size], data[train_size:]
    
    # Prepare data
    X_train, y_train, scaler = prepare_data(train_data)
    X_test, y_test, _ = prepare_data(test_data)
    
    # Build and train model
    model = build_lstm_model(time_steps=60)
    model.fit(X_train, y_train, epochs=50, batch_size=32)
    
    # Predict
    predictions = model.predict(X_test)
    predictions = scaler.inverse_transform(predictions)
    y_test = scaler.inverse_transform(y_test)
    
    # Plot
    plot_predictions(train_data, y_test, predictions)

if __name__ == "__main__":
    main()
